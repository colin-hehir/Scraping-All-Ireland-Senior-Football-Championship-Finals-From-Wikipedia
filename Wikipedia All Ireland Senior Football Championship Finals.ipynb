{
 "cells": [
  {
   "cell_type": "code",
   "execution_count": 1 ,
   "metadata": {},
   "outputs": [],
   "source": [
    "import requests\n",
    "import urllib.request\n",
    "import time\n",
    "from bs4 import BeautifulSoup\n",
    "import numpy as np\n",
    "import pandas as pd\n",
    "from urllib.request import urlopen\n",
    "url = 'https://en.wikipedia.org/wiki/List_of_All-Ireland_Senior_Football_Championship_finals'\n",
    "football_table_id = 'sortable wikitable plainrowheaders'\n",
    "html = urlopen(url) \n",
    "\n",
    "response = requests.get(url)\n",
    "soup = BeautifulSoup(html, 'html.parser')\n",
    "\n",
    "football_table = soup.find('table', {'class': football_table_id}).tbody\n",
    "\n",
    "rows = football_table.find_all('tr')\n",
    "\n",
    "columns = [v.text.replace('\\n', '') for v in rows[0].find_all('th')]\n",
    "\n",
    "df = pd.DataFrame(columns=columns)\n",
    "\n",
    "for i in range(1, len(rows)):\n",
    "    tds = rows[i].find_all('td')\n",
    "    if len(tds) ==2:\n",
    "        values = [tds[0].text, tds[1].text, '','','','','','',''.replace('\\n', '').replace('xa0', '')]\n",
    "    else:\n",
    "        values = [td.text.replace('\\n', '').replace('xa0', '') for td in tds]\n",
    "    df = df.append(pd.Series(values, index=columns), ignore_index=True)\n",
    "    df.to_csv(r'C:\\Users\\Owner\\Documents\\CA682\\Visualisation Assignment\\Python\\Webscraping All-Ireland Football Final Results'\n",
    "              + '\\\\Football_Result.csv', index=False)\n",
    "    \n",
    "\n",
    "\n",
    "\n"
   ]
  },
  {
   "cell_type": "code",
   "execution_count": null,
   "metadata": {},
   "outputs": [],
   "source": []
  }
 ],
 "metadata": {
  "kernelspec": {
   "display_name": "Python 3",
   "language": "python",
   "name": "python3"
  },
  "language_info": {
   "codemirror_mode": {
    "name": "ipython",
    "version": 3
   },
   "file_extension": ".py",
   "mimetype": "text/x-python",
   "name": "python",
   "nbconvert_exporter": "python",
   "pygments_lexer": "ipython3",
   "version": "3.8.5"
  }
 },
 "nbformat": 4,
 "nbformat_minor": 4
}
